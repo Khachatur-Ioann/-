{
 "cells": [
  {
   "cell_type": "code",
   "execution_count": 1,
   "id": "014fec5c",
   "metadata": {},
   "outputs": [],
   "source": [
    "import numpy as np"
   ]
  },
  {
   "cell_type": "code",
   "execution_count": 3,
   "id": "b0ed0142",
   "metadata": {},
   "outputs": [],
   "source": [
    "a = np.array([[1, 6],\n",
    "              [2, 8],\n",
    "              [3, 11],\n",
    "              [3, 10],\n",
    "              [1, 7]])"
   ]
  },
  {
   "cell_type": "code",
   "execution_count": 5,
   "id": "ecd41358",
   "metadata": {},
   "outputs": [],
   "source": [
    "mean_a = a.mean(axis=0)"
   ]
  },
  {
   "cell_type": "code",
   "execution_count": 6,
   "id": "6abc3c51",
   "metadata": {},
   "outputs": [
    {
     "name": "stdout",
     "output_type": "stream",
     "text": [
      "[2.  8.4]\n"
     ]
    }
   ],
   "source": [
    "print(mean_a)"
   ]
  },
  {
   "cell_type": "code",
   "execution_count": 7,
   "id": "050c960a",
   "metadata": {},
   "outputs": [],
   "source": [
    "a_centered = a - mean_a.mean(axis=0)"
   ]
  },
  {
   "cell_type": "code",
   "execution_count": 8,
   "id": "1016d839",
   "metadata": {},
   "outputs": [
    {
     "name": "stdout",
     "output_type": "stream",
     "text": [
      "[[-4.2  0.8]\n",
      " [-3.2  2.8]\n",
      " [-2.2  5.8]\n",
      " [-2.2  4.8]\n",
      " [-4.2  1.8]]\n"
     ]
    }
   ],
   "source": [
    "print(a_centered)"
   ]
  },
  {
   "cell_type": "code",
   "execution_count": 9,
   "id": "256014c6",
   "metadata": {},
   "outputs": [
    {
     "name": "stdout",
     "output_type": "stream",
     "text": [
      "5.2\n"
     ]
    }
   ],
   "source": [
    "print(mean_a.mean(axis=0))"
   ]
  },
  {
   "cell_type": "code",
   "execution_count": 13,
   "id": "dacf7969",
   "metadata": {},
   "outputs": [],
   "source": [
    "a1 = a_centered[:, 0]"
   ]
  },
  {
   "cell_type": "code",
   "execution_count": 14,
   "id": "e179a5d4",
   "metadata": {},
   "outputs": [],
   "source": [
    "a2 = a_centered[:, 1]"
   ]
  },
  {
   "cell_type": "code",
   "execution_count": 20,
   "id": "47765716",
   "metadata": {},
   "outputs": [],
   "source": [
    "a_centered_sp=np.dot(a1,a2)"
   ]
  },
  {
   "cell_type": "code",
   "execution_count": 22,
   "id": "686f28bd",
   "metadata": {},
   "outputs": [
    {
     "name": "stdout",
     "output_type": "stream",
     "text": [
      "-43.199999999999996\n"
     ]
    }
   ],
   "source": [
    "print(a_centered_sp)"
   ]
  },
  {
   "cell_type": "code",
   "execution_count": 27,
   "id": "b859e56e",
   "metadata": {},
   "outputs": [],
   "source": [
    "N = a.shape[0]"
   ]
  },
  {
   "cell_type": "code",
   "execution_count": 28,
   "id": "c169a44f",
   "metadata": {},
   "outputs": [
    {
     "name": "stdout",
     "output_type": "stream",
     "text": [
      "5\n"
     ]
    }
   ],
   "source": [
    "print(N)"
   ]
  },
  {
   "cell_type": "code",
   "execution_count": 31,
   "id": "24477749",
   "metadata": {},
   "outputs": [],
   "source": [
    "a_centered_sp_1 = a_centered_sp / (N-1)"
   ]
  },
  {
   "cell_type": "code",
   "execution_count": 32,
   "id": "fdd52620",
   "metadata": {},
   "outputs": [
    {
     "name": "stdout",
     "output_type": "stream",
     "text": [
      "-10.799999999999999\n"
     ]
    }
   ],
   "source": [
    "print(a_centered_sp_1)"
   ]
  },
  {
   "cell_type": "code",
   "execution_count": 33,
   "id": "f8dd8370",
   "metadata": {},
   "outputs": [
    {
     "data": {
      "text/plain": [
       "array([[1. , 2. ],\n",
       "       [2. , 4.3]])"
      ]
     },
     "execution_count": 33,
     "metadata": {},
     "output_type": "execute_result"
    }
   ],
   "source": [
    "np.cov(a.transpose())"
   ]
  },
  {
   "cell_type": "code",
   "execution_count": null,
   "id": "e458d8da",
   "metadata": {},
   "outputs": [],
   "source": []
  }
 ],
 "metadata": {
  "kernelspec": {
   "display_name": "Python 3 (ipykernel)",
   "language": "python",
   "name": "python3"
  },
  "language_info": {
   "codemirror_mode": {
    "name": "ipython",
    "version": 3
   },
   "file_extension": ".py",
   "mimetype": "text/x-python",
   "name": "python",
   "nbconvert_exporter": "python",
   "pygments_lexer": "ipython3",
   "version": "3.9.0"
  }
 },
 "nbformat": 4,
 "nbformat_minor": 5
}
